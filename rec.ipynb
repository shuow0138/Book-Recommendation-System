{
 "cells": [
  {
   "cell_type": "code",
   "execution_count": 25,
   "id": "8f9a2efe",
   "metadata": {},
   "outputs": [],
   "source": [
    "import pandas as pd\n",
    "import numpy as np\n",
    "import matplotlib.pyplot as plt"
   ]
  },
  {
   "cell_type": "code",
   "execution_count": 26,
   "id": "74456634",
   "metadata": {},
   "outputs": [
    {
     "data": {
      "text/html": [
       "<div>\n",
       "<style scoped>\n",
       "    .dataframe tbody tr th:only-of-type {\n",
       "        vertical-align: middle;\n",
       "    }\n",
       "\n",
       "    .dataframe tbody tr th {\n",
       "        vertical-align: top;\n",
       "    }\n",
       "\n",
       "    .dataframe thead th {\n",
       "        text-align: right;\n",
       "    }\n",
       "</style>\n",
       "<table border=\"1\" class=\"dataframe\">\n",
       "  <thead>\n",
       "    <tr style=\"text-align: right;\">\n",
       "      <th></th>\n",
       "      <th>ISBN</th>\n",
       "      <th>BookTitle</th>\n",
       "      <th>BookAuthor</th>\n",
       "      <th>PubTime</th>\n",
       "      <th>Publisher</th>\n",
       "    </tr>\n",
       "  </thead>\n",
       "  <tbody>\n",
       "    <tr>\n",
       "      <th>0</th>\n",
       "      <td>0195153448</td>\n",
       "      <td>Classical Mythology</td>\n",
       "      <td>Mark P. O. Morford</td>\n",
       "      <td>2002</td>\n",
       "      <td>Oxford University Press</td>\n",
       "    </tr>\n",
       "    <tr>\n",
       "      <th>1</th>\n",
       "      <td>0002005018</td>\n",
       "      <td>Clara Callan</td>\n",
       "      <td>Richard Bruce Wright</td>\n",
       "      <td>2001</td>\n",
       "      <td>HarperFlamingo Canada</td>\n",
       "    </tr>\n",
       "    <tr>\n",
       "      <th>2</th>\n",
       "      <td>0060973129</td>\n",
       "      <td>Decision in Normandy</td>\n",
       "      <td>Carlo D'Este</td>\n",
       "      <td>1991</td>\n",
       "      <td>HarperPerennial</td>\n",
       "    </tr>\n",
       "    <tr>\n",
       "      <th>3</th>\n",
       "      <td>0374157065</td>\n",
       "      <td>Flu: The Story of the Great Influenza Pandemic...</td>\n",
       "      <td>Gina Bari Kolata</td>\n",
       "      <td>1999</td>\n",
       "      <td>Farrar Straus Giroux</td>\n",
       "    </tr>\n",
       "    <tr>\n",
       "      <th>4</th>\n",
       "      <td>0393045218</td>\n",
       "      <td>The Mummies of Urumchi</td>\n",
       "      <td>E. J. W. Barber</td>\n",
       "      <td>1999</td>\n",
       "      <td>W. W. Norton &amp; Company</td>\n",
       "    </tr>\n",
       "  </tbody>\n",
       "</table>\n",
       "</div>"
      ],
      "text/plain": [
       "         ISBN                                          BookTitle  \\\n",
       "0  0195153448                                Classical Mythology   \n",
       "1  0002005018                                       Clara Callan   \n",
       "2  0060973129                               Decision in Normandy   \n",
       "3  0374157065  Flu: The Story of the Great Influenza Pandemic...   \n",
       "4  0393045218                             The Mummies of Urumchi   \n",
       "\n",
       "             BookAuthor  PubTime                Publisher  \n",
       "0    Mark P. O. Morford     2002  Oxford University Press  \n",
       "1  Richard Bruce Wright     2001    HarperFlamingo Canada  \n",
       "2          Carlo D'Este     1991          HarperPerennial  \n",
       "3      Gina Bari Kolata     1999     Farrar Straus Giroux  \n",
       "4       E. J. W. Barber     1999   W. W. Norton & Company  "
      ]
     },
     "execution_count": 26,
     "metadata": {},
     "output_type": "execute_result"
    }
   ],
   "source": [
    "books = pd.read_csv('BX_Books.csv', sep = ';')\n",
    "books.drop( axis=1,  columns=['Image-URL-S', 'Image-URL-M','Image-URL-L'], inplace=True)\n",
    "books.columns = ['ISBN','BookTitle','BookAuthor','PubTime','Publisher']\n",
    "books.head()"
   ]
  },
  {
   "cell_type": "code",
   "execution_count": 27,
   "id": "8914a13a",
   "metadata": {},
   "outputs": [
    {
     "data": {
      "text/html": [
       "<div>\n",
       "<style scoped>\n",
       "    .dataframe tbody tr th:only-of-type {\n",
       "        vertical-align: middle;\n",
       "    }\n",
       "\n",
       "    .dataframe tbody tr th {\n",
       "        vertical-align: top;\n",
       "    }\n",
       "\n",
       "    .dataframe thead th {\n",
       "        text-align: right;\n",
       "    }\n",
       "</style>\n",
       "<table border=\"1\" class=\"dataframe\">\n",
       "  <thead>\n",
       "    <tr style=\"text-align: right;\">\n",
       "      <th></th>\n",
       "      <th>UserId</th>\n",
       "      <th>Loc</th>\n",
       "      <th>Age</th>\n",
       "    </tr>\n",
       "  </thead>\n",
       "  <tbody>\n",
       "    <tr>\n",
       "      <th>0</th>\n",
       "      <td>1</td>\n",
       "      <td>nyc, new york, usa</td>\n",
       "      <td>NaN</td>\n",
       "    </tr>\n",
       "    <tr>\n",
       "      <th>1</th>\n",
       "      <td>2</td>\n",
       "      <td>stockton, california, usa</td>\n",
       "      <td>18.0</td>\n",
       "    </tr>\n",
       "    <tr>\n",
       "      <th>2</th>\n",
       "      <td>3</td>\n",
       "      <td>moscow, yukon territory, russia</td>\n",
       "      <td>NaN</td>\n",
       "    </tr>\n",
       "    <tr>\n",
       "      <th>3</th>\n",
       "      <td>4</td>\n",
       "      <td>porto, v.n.gaia, portugal</td>\n",
       "      <td>17.0</td>\n",
       "    </tr>\n",
       "    <tr>\n",
       "      <th>4</th>\n",
       "      <td>5</td>\n",
       "      <td>farnborough, hants, united kingdom</td>\n",
       "      <td>NaN</td>\n",
       "    </tr>\n",
       "  </tbody>\n",
       "</table>\n",
       "</div>"
      ],
      "text/plain": [
       "   UserId                                 Loc   Age\n",
       "0       1                  nyc, new york, usa   NaN\n",
       "1       2           stockton, california, usa  18.0\n",
       "2       3     moscow, yukon territory, russia   NaN\n",
       "3       4           porto, v.n.gaia, portugal  17.0\n",
       "4       5  farnborough, hants, united kingdom   NaN"
      ]
     },
     "execution_count": 27,
     "metadata": {},
     "output_type": "execute_result"
    }
   ],
   "source": [
    "users = pd.read_csv('BX-Users.csv', sep = ';')\n",
    "users.columns = ['UserId','Loc','Age']\n",
    "users.head()"
   ]
  },
  {
   "cell_type": "code",
   "execution_count": 28,
   "id": "a23b0278",
   "metadata": {},
   "outputs": [
    {
     "data": {
      "text/html": [
       "<div>\n",
       "<style scoped>\n",
       "    .dataframe tbody tr th:only-of-type {\n",
       "        vertical-align: middle;\n",
       "    }\n",
       "\n",
       "    .dataframe tbody tr th {\n",
       "        vertical-align: top;\n",
       "    }\n",
       "\n",
       "    .dataframe thead th {\n",
       "        text-align: right;\n",
       "    }\n",
       "</style>\n",
       "<table border=\"1\" class=\"dataframe\">\n",
       "  <thead>\n",
       "    <tr style=\"text-align: right;\">\n",
       "      <th></th>\n",
       "      <th>UserId</th>\n",
       "      <th>ISBN</th>\n",
       "      <th>Rating</th>\n",
       "    </tr>\n",
       "  </thead>\n",
       "  <tbody>\n",
       "    <tr>\n",
       "      <th>0</th>\n",
       "      <td>276725</td>\n",
       "      <td>034545104X</td>\n",
       "      <td>0</td>\n",
       "    </tr>\n",
       "    <tr>\n",
       "      <th>1</th>\n",
       "      <td>276726</td>\n",
       "      <td>0155061224</td>\n",
       "      <td>5</td>\n",
       "    </tr>\n",
       "    <tr>\n",
       "      <th>2</th>\n",
       "      <td>276727</td>\n",
       "      <td>0446520802</td>\n",
       "      <td>0</td>\n",
       "    </tr>\n",
       "    <tr>\n",
       "      <th>3</th>\n",
       "      <td>276729</td>\n",
       "      <td>052165615X</td>\n",
       "      <td>3</td>\n",
       "    </tr>\n",
       "    <tr>\n",
       "      <th>4</th>\n",
       "      <td>276729</td>\n",
       "      <td>0521795028</td>\n",
       "      <td>6</td>\n",
       "    </tr>\n",
       "  </tbody>\n",
       "</table>\n",
       "</div>"
      ],
      "text/plain": [
       "   UserId        ISBN  Rating\n",
       "0  276725  034545104X       0\n",
       "1  276726  0155061224       5\n",
       "2  276727  0446520802       0\n",
       "3  276729  052165615X       3\n",
       "4  276729  0521795028       6"
      ]
     },
     "execution_count": 28,
     "metadata": {},
     "output_type": "execute_result"
    }
   ],
   "source": [
    "ratings = pd.read_csv('BX-Book-Ratings.csv', sep = ';')\n",
    "ratings.columns = ['UserId','ISBN','Rating']\n",
    "ratings.head()"
   ]
  },
  {
   "cell_type": "markdown",
   "id": "0b615fcf",
   "metadata": {},
   "source": [
    "To ensure statistical significance, users with less than 200 ratings, and books with less than 100 ratings are excluded."
   ]
  },
  {
   "cell_type": "code",
   "execution_count": 42,
   "id": "79264de8",
   "metadata": {},
   "outputs": [],
   "source": [
    "counts1 = ratings['UserId'].value_counts()\n",
    "ratings = ratings[ratings['UserId'].isin(counts1[counts1 >= 200].index)]"
   ]
  },
  {
   "cell_type": "code",
   "execution_count": 53,
   "id": "1f7a5922",
   "metadata": {},
   "outputs": [],
   "source": [
    "counts2 = ratings['Rating'].value_counts()\n",
    "ratings = ratings[ratings['Rating'].isin(counts2[counts2 > 100].index)]"
   ]
  },
  {
   "cell_type": "markdown",
   "id": "fae43e5d",
   "metadata": {},
   "source": [
    "KNN"
   ]
  },
  {
   "cell_type": "code",
   "execution_count": 58,
   "id": "20936836",
   "metadata": {},
   "outputs": [
    {
     "data": {
      "text/html": [
       "<div>\n",
       "<style scoped>\n",
       "    .dataframe tbody tr th:only-of-type {\n",
       "        vertical-align: middle;\n",
       "    }\n",
       "\n",
       "    .dataframe tbody tr th {\n",
       "        vertical-align: top;\n",
       "    }\n",
       "\n",
       "    .dataframe thead th {\n",
       "        text-align: right;\n",
       "    }\n",
       "</style>\n",
       "<table border=\"1\" class=\"dataframe\">\n",
       "  <thead>\n",
       "    <tr style=\"text-align: right;\">\n",
       "      <th></th>\n",
       "      <th>UserId</th>\n",
       "      <th>ISBN</th>\n",
       "      <th>Rating</th>\n",
       "      <th>BookTitle</th>\n",
       "    </tr>\n",
       "  </thead>\n",
       "  <tbody>\n",
       "    <tr>\n",
       "      <th>0</th>\n",
       "      <td>277427</td>\n",
       "      <td>002542730X</td>\n",
       "      <td>10</td>\n",
       "      <td>Politically Correct Bedtime Stories: Modern Ta...</td>\n",
       "    </tr>\n",
       "    <tr>\n",
       "      <th>1</th>\n",
       "      <td>3363</td>\n",
       "      <td>002542730X</td>\n",
       "      <td>0</td>\n",
       "      <td>Politically Correct Bedtime Stories: Modern Ta...</td>\n",
       "    </tr>\n",
       "    <tr>\n",
       "      <th>2</th>\n",
       "      <td>11676</td>\n",
       "      <td>002542730X</td>\n",
       "      <td>6</td>\n",
       "      <td>Politically Correct Bedtime Stories: Modern Ta...</td>\n",
       "    </tr>\n",
       "    <tr>\n",
       "      <th>3</th>\n",
       "      <td>12538</td>\n",
       "      <td>002542730X</td>\n",
       "      <td>10</td>\n",
       "      <td>Politically Correct Bedtime Stories: Modern Ta...</td>\n",
       "    </tr>\n",
       "    <tr>\n",
       "      <th>4</th>\n",
       "      <td>13552</td>\n",
       "      <td>002542730X</td>\n",
       "      <td>0</td>\n",
       "      <td>Politically Correct Bedtime Stories: Modern Ta...</td>\n",
       "    </tr>\n",
       "    <tr>\n",
       "      <th>...</th>\n",
       "      <td>...</td>\n",
       "      <td>...</td>\n",
       "      <td>...</td>\n",
       "      <td>...</td>\n",
       "    </tr>\n",
       "    <tr>\n",
       "      <th>488751</th>\n",
       "      <td>275970</td>\n",
       "      <td>1892145022</td>\n",
       "      <td>0</td>\n",
       "      <td>Here Is New York</td>\n",
       "    </tr>\n",
       "    <tr>\n",
       "      <th>488752</th>\n",
       "      <td>275970</td>\n",
       "      <td>1931868123</td>\n",
       "      <td>0</td>\n",
       "      <td>There's a Porcupine in My Outhouse: Misadventu...</td>\n",
       "    </tr>\n",
       "    <tr>\n",
       "      <th>488753</th>\n",
       "      <td>275970</td>\n",
       "      <td>3411086211</td>\n",
       "      <td>10</td>\n",
       "      <td>Die Biene.</td>\n",
       "    </tr>\n",
       "    <tr>\n",
       "      <th>488754</th>\n",
       "      <td>275970</td>\n",
       "      <td>3829021860</td>\n",
       "      <td>0</td>\n",
       "      <td>The Penis Book</td>\n",
       "    </tr>\n",
       "    <tr>\n",
       "      <th>488755</th>\n",
       "      <td>275970</td>\n",
       "      <td>4770019572</td>\n",
       "      <td>0</td>\n",
       "      <td>Musashi</td>\n",
       "    </tr>\n",
       "  </tbody>\n",
       "</table>\n",
       "<p>488756 rows × 4 columns</p>\n",
       "</div>"
      ],
      "text/plain": [
       "        UserId        ISBN  Rating  \\\n",
       "0       277427  002542730X      10   \n",
       "1         3363  002542730X       0   \n",
       "2        11676  002542730X       6   \n",
       "3        12538  002542730X      10   \n",
       "4        13552  002542730X       0   \n",
       "...        ...         ...     ...   \n",
       "488751  275970  1892145022       0   \n",
       "488752  275970  1931868123       0   \n",
       "488753  275970  3411086211      10   \n",
       "488754  275970  3829021860       0   \n",
       "488755  275970  4770019572       0   \n",
       "\n",
       "                                                BookTitle  \n",
       "0       Politically Correct Bedtime Stories: Modern Ta...  \n",
       "1       Politically Correct Bedtime Stories: Modern Ta...  \n",
       "2       Politically Correct Bedtime Stories: Modern Ta...  \n",
       "3       Politically Correct Bedtime Stories: Modern Ta...  \n",
       "4       Politically Correct Bedtime Stories: Modern Ta...  \n",
       "...                                                   ...  \n",
       "488751                                   Here Is New York  \n",
       "488752  There's a Porcupine in My Outhouse: Misadventu...  \n",
       "488753                                         Die Biene.  \n",
       "488754                                     The Penis Book  \n",
       "488755                                            Musashi  \n",
       "\n",
       "[488756 rows x 4 columns]"
      ]
     },
     "execution_count": 58,
     "metadata": {},
     "output_type": "execute_result"
    }
   ],
   "source": [
    "combinedTable = pd.merge(ratings, books, on= 'ISBN')\n",
    "combinedTable.drop(axis = 1, columns = ['BookAuthor', 'PubTime','Publisher'], inplace = True)\n",
    "combine_book_rating = combinedTable.dropna(axis = 0, subset = ['BookTitle'])\n",
    "combine_book_rating"
   ]
  },
  {
   "cell_type": "code",
   "execution_count": 127,
   "id": "64a547f4",
   "metadata": {},
   "outputs": [
    {
     "name": "stdout",
     "output_type": "stream",
     "text": [
      "                                           BookTitle  totalRatingCount\n",
      "0   A Light in the Storm: The Civil War Diary of ...                 2\n",
      "1                              Always Have Popsicles                 1\n",
      "2               Apple Magic (The Collector's series)                 1\n",
      "3   Beyond IBM: Leadership Marketing and Finance ...                 1\n",
      "4   Clifford Visita El Hospital (Clifford El Gran...                 1\n"
     ]
    }
   ],
   "source": [
    "\n",
    "\n",
    "book_ratingCount = (combine_book_rating.\n",
    "     groupby(by = ['BookTitle'])['Rating'].\n",
    "     count().\n",
    "     reset_index().\n",
    "     rename(columns = {'Rating': 'totalRatingCount'})\n",
    "     [['BookTitle', 'totalRatingCount']]\n",
    "    )\n",
    "print(book_ratingCount.head())"
   ]
  },
  {
   "cell_type": "code",
   "execution_count": 128,
   "id": "eb425e9a",
   "metadata": {},
   "outputs": [
    {
     "name": "stdout",
     "output_type": "stream",
     "text": [
      "   UserId        ISBN  Rating  \\\n",
      "0  277427  002542730X      10   \n",
      "1    3363  002542730X       0   \n",
      "2   11676  002542730X       6   \n",
      "3   12538  002542730X      10   \n",
      "4   13552  002542730X       0   \n",
      "\n",
      "                                           BookTitle  totalRatingCount  \n",
      "0  Politically Correct Bedtime Stories: Modern Ta...                82  \n",
      "1  Politically Correct Bedtime Stories: Modern Ta...                82  \n",
      "2  Politically Correct Bedtime Stories: Modern Ta...                82  \n",
      "3  Politically Correct Bedtime Stories: Modern Ta...                82  \n",
      "4  Politically Correct Bedtime Stories: Modern Ta...                82  \n"
     ]
    }
   ],
   "source": [
    "rating_with_totalRatingCount = combine_book_rating.merge(book_ratingCount, \n",
    "                                                        left_on = 'BookTitle', \n",
    "                                                        right_on = 'BookTitle', \n",
    "                                                        how = 'left')\n",
    "print(rating_with_totalRatingCount.head())"
   ]
  },
  {
   "cell_type": "code",
   "execution_count": 129,
   "id": "316d84fd",
   "metadata": {},
   "outputs": [
    {
     "name": "stdout",
     "output_type": "stream",
     "text": [
      "count   160587.000\n",
      "mean         3.044\n",
      "std          7.428\n",
      "min          1.000\n",
      "25%          1.000\n",
      "50%          1.000\n",
      "75%          2.000\n",
      "max        365.000\n",
      "Name: totalRatingCount, dtype: float64\n"
     ]
    }
   ],
   "source": [
    "pd.set_option('display.float_format', lambda x: '%.3f' % x)\n",
    "print(book_ratingCount['totalRatingCount'].describe())"
   ]
  },
  {
   "cell_type": "code",
   "execution_count": 130,
   "id": "51c629b2",
   "metadata": {},
   "outputs": [
    {
     "name": "stdout",
     "output_type": "stream",
     "text": [
      "   UserId        ISBN  Rating  \\\n",
      "0  277427  002542730X      10   \n",
      "1    3363  002542730X       0   \n",
      "2   11676  002542730X       6   \n",
      "3   12538  002542730X      10   \n",
      "4   13552  002542730X       0   \n",
      "\n",
      "                                           BookTitle  totalRatingCount  \n",
      "0  Politically Correct Bedtime Stories: Modern Ta...                82  \n",
      "1  Politically Correct Bedtime Stories: Modern Ta...                82  \n",
      "2  Politically Correct Bedtime Stories: Modern Ta...                82  \n",
      "3  Politically Correct Bedtime Stories: Modern Ta...                82  \n",
      "4  Politically Correct Bedtime Stories: Modern Ta...                82  \n"
     ]
    }
   ],
   "source": [
    "popularity_threshold = 50\n",
    "rating_popular_book = rating_with_totalRatingCount.query('totalRatingCount >= @popularity_threshold')\n",
    "print(rating_popular_book.head())"
   ]
  },
  {
   "cell_type": "code",
   "execution_count": 136,
   "id": "52fad5c3",
   "metadata": {},
   "outputs": [
    {
     "name": "stdout",
     "output_type": "stream",
     "text": [
      "NearestNeighbors(algorithm='brute', metric='cosine')\n"
     ]
    }
   ],
   "source": [
    "from scipy.sparse import csr_matrix\n",
    "us_canada_user_rating = rating_popular_book.drop_duplicates(['UserId', 'BookTitle'])\n",
    "us_canada_user_rating_pivot = us_canada_user_rating.pivot(index = 'BookTitle', columns = 'UserId', values = 'Rating').fillna(0)\n",
    "us_canada_user_rating_matrix = csr_matrix(us_canada_user_rating_pivot.values)\n",
    "\n",
    "from sklearn.neighbors import NearestNeighbors\n",
    "\n",
    "model_knn = NearestNeighbors(metric = 'cosine', algorithm = 'brute')\n",
    "model_knn.fit(us_canada_user_rating_matrix)\n",
    "print(model_knn)"
   ]
  },
  {
   "cell_type": "code",
   "execution_count": 138,
   "id": "2f5a8c9e",
   "metadata": {},
   "outputs": [
    {
     "name": "stdout",
     "output_type": "stream",
     "text": [
      "Recommendations for Reap the Wind:\n",
      "\n",
      "1: The Ugly Duckling, with distance of 0.7327592803775523:\n",
      "2: Body of Lies, with distance of 0.7343097618954784:\n",
      "3: Envy, with distance of 0.7482275597841389:\n",
      "4: Touching Evil, with distance of 0.779630146338416:\n",
      "5: Welcome to Temptation, with distance of 0.8007133056992567:\n"
     ]
    }
   ],
   "source": [
    "query_index = np.random.choice(us_canada_user_rating_pivot.shape[0])\n",
    "distances, indices = model_knn.kneighbors(us_canada_user_rating_pivot.iloc[query_index,:].values.reshape(1, -1), n_neighbors = 6)\n",
    "us_canada_user_rating_pivot.index[query_index]\n",
    "\n",
    "for i in range(0, len(distances.flatten())):\n",
    "    if i == 0:\n",
    "        print('Recommendations for {0}:\\n'.format(us_canada_user_rating_pivot.index[query_index]))\n",
    "    else:\n",
    "        print('{0}: {1}, with distance of {2}:'.format(i, us_canada_user_rating_pivot.index[indices.flatten()[i]], distances.flatten()[i]))"
   ]
  },
  {
   "cell_type": "code",
   "execution_count": null,
   "id": "0fa60e08",
   "metadata": {},
   "outputs": [],
   "source": []
  }
 ],
 "metadata": {
  "kernelspec": {
   "display_name": "Python 3",
   "language": "python",
   "name": "python3"
  },
  "language_info": {
   "codemirror_mode": {
    "name": "ipython",
    "version": 3
   },
   "file_extension": ".py",
   "mimetype": "text/x-python",
   "name": "python",
   "nbconvert_exporter": "python",
   "pygments_lexer": "ipython3",
   "version": "3.8.8"
  }
 },
 "nbformat": 4,
 "nbformat_minor": 5
}
